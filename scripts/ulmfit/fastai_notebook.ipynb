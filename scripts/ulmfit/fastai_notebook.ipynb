{
 "cells": [
  {
   "cell_type": "code",
   "execution_count": 1,
   "metadata": {},
   "outputs": [],
   "source": [
    "import fastai\n",
    "from fastai import *\n",
    "from fastai.text import *\n",
    "fastai.torch_core.defaults.device = 'cpu'\n",
    "import pandas as pd\n",
    "import numpy as np\n",
    "from functools import partial\n",
    "import io\n",
    "import os"
   ]
  },
  {
   "cell_type": "code",
   "execution_count": 17,
   "metadata": {},
   "outputs": [],
   "source": [
    "defaults.device = torch.device('cuda') if torch.cuda.is_available() else torch.device('cpu')"
   ]
  },
  {
   "cell_type": "code",
   "execution_count": 2,
   "metadata": {},
   "outputs": [],
   "source": [
    "trainCsvPath = Path('data/abstract/bioPaperExport_text_label.csv')\n",
    "df = pd.read_csv(trainCsvPath)"
   ]
  },
  {
   "cell_type": "code",
   "execution_count": 3,
   "metadata": {},
   "outputs": [],
   "source": [
    "df = df[df.label != 'unknown']"
   ]
  },
  {
   "cell_type": "code",
   "execution_count": 5,
   "metadata": {},
   "outputs": [
    {
     "data": {
      "text/plain": [
       "((20516, 2), (8793, 2))"
      ]
     },
     "execution_count": 5,
     "metadata": {},
     "output_type": "execute_result"
    }
   ],
   "source": [
    "#split training and testing data (70:30)\n",
    "from sklearn.model_selection import train_test_split\n",
    "trainDf, testDf = train_test_split(df,stratify=df['label'], test_size = 0.3, random_state = 11)\n",
    "\n",
    "trainDf.shape,testDf.shape"
   ]
  },
  {
   "cell_type": "code",
   "execution_count": 7,
   "metadata": {},
   "outputs": [],
   "source": [
    "#create models from data \n",
    "data_lm = TextLMDataBunch.from_df(train_df=trainDf,valid_df=testDf,path='',text_cols='text', label_cols='label')"
   ]
  },
  {
   "cell_type": "code",
   "execution_count": 8,
   "metadata": {},
   "outputs": [],
   "source": [
    "data_clas = TextClasDataBunch.from_df(path='',train_df=trainDf, valid_df=testDf, vocab=data_lm.train_ds.vocab,text_cols='text', label_cols='label')"
   ]
  },
  {
   "cell_type": "code",
   "execution_count": 9,
   "metadata": {},
   "outputs": [],
   "source": [
    "#save models locally\n",
    "data_lm.save('databunch/abstract_lm.pkl')\n",
    "data_clas.save('databunch/abstract_clas.pkl')"
   ]
  },
  {
   "cell_type": "code",
   "execution_count": 21,
   "metadata": {},
   "outputs": [],
   "source": []
  },
  {
   "cell_type": "code",
   "execution_count": 10,
   "metadata": {},
   "outputs": [],
   "source": [
    "data_clas = load_data(path='', fname='databunch/abstract_clas.pkl')"
   ]
  },
  {
   "cell_type": "code",
   "execution_count": 11,
   "metadata": {
    "scrolled": true
   },
   "outputs": [
    {
     "data": {
      "text/html": [
       "<table border=\"1\" class=\"dataframe\">\n",
       "  <thead>\n",
       "    <tr style=\"text-align: right;\">\n",
       "      <th>text</th>\n",
       "      <th>target</th>\n",
       "    </tr>\n",
       "  </thead>\n",
       "  <tbody>\n",
       "    <tr>\n",
       "      <td>xxbos xxmaj background : xxmaj the outcome of a given antibiotic treatment on the growth capacity of bacteria is largely dependent on the initial population size ( the xxmaj inoculum xxmaj effect , xxup ie ) . xxmaj for some specific classical antibiotic drugs this phenomenon is well established in both in - vitro and in - vivo studies , and its precise mechanisms , its clinical implications and its</td>\n",
       "      <td>microbiology</td>\n",
       "    </tr>\n",
       "    <tr>\n",
       "      <td>xxbos xxmaj background : xxmaj chronic disease management requires the ability to link patient records across multiple interactions with the health sector . xxmaj south xxmaj africa 's xxmaj national xxmaj health xxmaj laboratory xxmaj service ( xxup nhls ) conducts all routine laboratory monitoring for the country 's national public sector xxup hiv program . xxmaj however , the absence of a validated patient identifier has limited the potential</td>\n",
       "      <td>epidemiology</td>\n",
       "    </tr>\n",
       "    <tr>\n",
       "      <td>xxbos xxmaj motivation : xxmaj genome - wide association ( xxup gwa ) studies provide a powerful means to identify associations between genetic variants and phenotypes . xxmaj however , xxup gwa techniques for detecting epistasis , the interactions between genetic variants associated with phenotypes , are still limited . xxmaj we believe that developing an efficient and effective xxup gwa method to detect epistasis will be a key for</td>\n",
       "      <td>bioinformatics</td>\n",
       "    </tr>\n",
       "    <tr>\n",
       "      <td>xxbos xxmaj introduction : xxmaj the pathophysiology of osteoarthritis ( xxup oa ) involves wear and tear , and a state of low - grade inflammation . xxmaj wear and tear leads to tissue degradation and tissue repair responses , including tissue growth factor beta ( xxunk myofibroblast production of extracellular matrix ( xxup ecm ) . xxmaj xxunk are an essential part of the xxup ecm , and injection</td>\n",
       "      <td>immunology</td>\n",
       "    </tr>\n",
       "    <tr>\n",
       "      <td>xxbos xxmaj global change will compromise the population sizes , species ranges , and survival of economically - important plants and animals , including crops , aquaculture species , and foundational ecosystem builders . xxmaj scleractinian reef - building corals are a particular concern because they are slow - growing , long - lived , environmentally - sensitive , and concentrated in the warmest regions of the ocean . xxmaj</td>\n",
       "      <td>zoology</td>\n",
       "    </tr>\n",
       "  </tbody>\n",
       "</table>"
      ],
      "text/plain": [
       "<IPython.core.display.HTML object>"
      ]
     },
     "metadata": {},
     "output_type": "display_data"
    }
   ],
   "source": [
    "data_clas.show_batch()"
   ]
  },
  {
   "cell_type": "code",
   "execution_count": 20,
   "metadata": {},
   "outputs": [],
   "source": [
    "learn_clas = load_learner(path='models/abstract_raw/models/classifier', fname='ab_clas_fine_tuned_export.pkl') "
   ]
  },
  {
   "cell_type": "code",
   "execution_count": 21,
   "metadata": {},
   "outputs": [
    {
     "data": {
      "text/plain": [
       "fastai.text.learner.RNNLearner"
      ]
     },
     "execution_count": 21,
     "metadata": {},
     "output_type": "execute_result"
    }
   ],
   "source": [
    "type(learn_clas)"
   ]
  },
  {
   "cell_type": "code",
   "execution_count": 29,
   "metadata": {},
   "outputs": [
    {
     "data": {
      "text/plain": [
       "(Category neuroscience,\n",
       " tensor(17),\n",
       " tensor([1.6840e-03, 3.7224e-06, 1.8737e-03, 9.2072e-05, 9.1204e-05, 1.1267e-06,\n",
       "         4.6098e-05, 2.4524e-06, 5.0978e-04, 1.1170e-05, 1.4174e-05, 1.7701e-05,\n",
       "         1.4591e-04, 2.8393e-05, 4.8645e-05, 5.1459e-06, 6.2150e-06, 9.9465e-01,\n",
       "         1.2649e-06, 4.4133e-05, 1.1579e-05, 5.4140e-04, 9.0688e-06, 3.9926e-06,\n",
       "         4.7370e-05, 1.0500e-04, 1.4785e-06]))"
      ]
     },
     "execution_count": 29,
     "metadata": {},
     "output_type": "execute_result"
    }
   ],
   "source": [
    "learn_clas.predict('Speaking is a sensorimotor behavior whose neural basis difficult to study at the resolution of single neurons due to the scarcity of human intracortical measurements and the lack of animal models. We recorded from electrode arrays in the \\'hand knob\\' area of motor cortex in people with tetraplegia. Neurons in this area, which have not previously been implicated in speech, modulated during speaking and during non-speaking movement of the tongue, lips, and jaw. This challenges whether the conventional model of a \\'motor homunculus\\' division by major body regions extends to the single-neuron scale. Spoken words and syllables could be decoded from single trials, demonstrating the potential utility of intracortical recordings for brain-computer interfaces (BCIs) to restore speech. Two neural population dynamics features previously reported for arm movements were also present during speaking: a large initial condition-invariant signal, followed by rotatory dynamics. This suggests that common neural dynamical motifs may underlie movement of arm and speech articulators.')"
   ]
  },
  {
   "cell_type": "code",
   "execution_count": null,
   "metadata": {},
   "outputs": [],
   "source": []
  }
 ],
 "metadata": {
  "kernelspec": {
   "display_name": "Python 3",
   "language": "python",
   "name": "python3"
  },
  "language_info": {
   "codemirror_mode": {
    "name": "ipython",
    "version": 3
   },
   "file_extension": ".py",
   "mimetype": "text/x-python",
   "name": "python",
   "nbconvert_exporter": "python",
   "pygments_lexer": "ipython3",
   "version": "3.7.1"
  }
 },
 "nbformat": 4,
 "nbformat_minor": 2
}
