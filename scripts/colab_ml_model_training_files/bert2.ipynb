{
  "nbformat": 4,
  "nbformat_minor": 0,
  "metadata": {
    "colab": {
      "name": "bert2.ipynb",
      "version": "0.3.2",
      "provenance": []
    },
    "kernelspec": {
      "name": "python3",
      "display_name": "Python 3"
    },
    "accelerator": "GPU"
  },
  "cells": [
    {
      "metadata": {
        "id": "nk_112zYjMJs",
        "colab_type": "code",
        "colab": {}
      },
      "cell_type": "code",
      "source": [
        "!pip install --upgrade tensorflow==1.13.1\n",
        "!pip install --upgrade pandas\n",
        "#!pip install -q tensorflow-gpu==2.0.0-alpha0\n",
        "\n",
        "import tensorflow as tf\n",
        "import pandas as pd\n",
        "import numpy as np\n",
        "import os"
      ],
      "execution_count": 0,
      "outputs": []
    },
    {
      "metadata": {
        "id": "4HWXFbH0jzXa",
        "colab_type": "code",
        "colab": {}
      },
      "cell_type": "code",
      "source": [
        "from sklearn.preprocessing import LabelEncoder\n",
        "from sklearn.model_selection import train_test_split\n",
        "import matplotlib.pyplot as plt\n",
        "import matplotlib.pyplot as plt"
      ],
      "execution_count": 0,
      "outputs": []
    },
    {
      "metadata": {
        "id": "0yUPun93jRfr",
        "colab_type": "code",
        "colab": {}
      },
      "cell_type": "code",
      "source": [
        "test01 = ([[1,1,1,1],[1,1,1,1],[1,1,1,1],[1,1,1,1],[1,1,1,1]],'label1')\n",
        "test02 = ([[1,1,1,1],[1,1,1,1],[1,1,1,1],[1,1,1,1],[1,1,1,1]],'label1')\n",
        "test03 = ([[1,1,1,1],[2,2,2,2],[2,2,2,2],[2,2,2,2],[2,2,2,2]],'label2')\n",
        "test04 = ([[1,1,1,1],[2,2,2,2],[2,2,2,2],[2,2,2,2],[2,2,2,2]],'label2')\n",
        "test_data = [test01,test02,test03,test04]\n",
        "\n",
        "columns = ['feature','label']\n",
        "t_df = pd.DataFrame(data = test_data, columns = columns)"
      ],
      "execution_count": 0,
      "outputs": []
    },
    {
      "metadata": {
        "id": "_CMFJsoTjfGw",
        "colab_type": "code",
        "colab": {}
      },
      "cell_type": "code",
      "source": [
        "t_df.feature"
      ],
      "execution_count": 0,
      "outputs": []
    },
    {
      "metadata": {
        "id": "vDqUg8yijsv2",
        "colab_type": "code",
        "colab": {}
      },
      "cell_type": "code",
      "source": [
        "X = np.array([np.array(a) for a in t_df.feature.values])\n",
        "Y = t_df.label\n",
        "le = LabelEncoder()\n",
        "Y = le.fit_transform(Y)\n",
        "Y = Y.reshape(-1,1)"
      ],
      "execution_count": 0,
      "outputs": []
    },
    {
      "metadata": {
        "id": "Jb82pQT_j4yD",
        "colab_type": "code",
        "outputId": "6067fa54-378a-4645-a763-e09144754fc6",
        "colab": {
          "base_uri": "https://localhost:8080/",
          "height": 52
        }
      },
      "cell_type": "code",
      "source": [
        "print(X.shape)\n",
        "print(Y.shape)"
      ],
      "execution_count": 0,
      "outputs": [
        {
          "output_type": "stream",
          "text": [
            "(4, 5, 4)\n",
            "(4, 1)\n"
          ],
          "name": "stdout"
        }
      ]
    },
    {
      "metadata": {
        "id": "o6Oa0wYikTBI",
        "colab_type": "code",
        "colab": {}
      },
      "cell_type": "code",
      "source": [
        "X_train,X_test,Y_train,Y_test = train_test_split(X,Y,test_size=0.15)"
      ],
      "execution_count": 0,
      "outputs": []
    },
    {
      "metadata": {
        "id": "Q8eToPH1kask",
        "colab_type": "code",
        "colab": {}
      },
      "cell_type": "code",
      "source": [
        "X_sequence = X_train"
      ],
      "execution_count": 0,
      "outputs": []
    },
    {
      "metadata": {
        "id": "V-_fOPyVk7cx",
        "colab_type": "code",
        "colab": {}
      },
      "cell_type": "code",
      "source": [
        "max_len = 5\n",
        "inputs = tf.keras.layers.Input(name='inputs',shape=[max_len,4])\n",
        "layer = tf.keras.layers.LSTM(64)(inputs)\n",
        "layer = tf.keras.layers.Dense(64, activation='relu')(layer)\n",
        "layer = tf.keras.layers.Dense(1,name='out_layer')(layer)\n",
        "layer = tf.keras.layers.Activation('sigmoid')(layer)\n",
        "model = tf.keras.models.Model(inputs=inputs,outputs=layer)"
      ],
      "execution_count": 0,
      "outputs": []
    },
    {
      "metadata": {
        "id": "FijKmWfTqpGK",
        "colab_type": "code",
        "outputId": "cda0174c-03b0-40ba-86ff-578802cb7499",
        "colab": {
          "base_uri": "https://localhost:8080/",
          "height": 312
        }
      },
      "cell_type": "code",
      "source": [
        "model.summary()"
      ],
      "execution_count": 0,
      "outputs": [
        {
          "output_type": "stream",
          "text": [
            "_________________________________________________________________\n",
            "Layer (type)                 Output Shape              Param #   \n",
            "=================================================================\n",
            "inputs (InputLayer)          (None, 5, 4)              0         \n",
            "_________________________________________________________________\n",
            "lstm_10 (LSTM)               (None, 64)                17664     \n",
            "_________________________________________________________________\n",
            "dense_7 (Dense)              (None, 64)                4160      \n",
            "_________________________________________________________________\n",
            "out_layer (Dense)            (None, 1)                 65        \n",
            "_________________________________________________________________\n",
            "activation_3 (Activation)    (None, 1)                 0         \n",
            "=================================================================\n",
            "Total params: 21,889\n",
            "Trainable params: 21,889\n",
            "Non-trainable params: 0\n",
            "_________________________________________________________________\n"
          ],
          "name": "stdout"
        }
      ]
    },
    {
      "metadata": {
        "id": "_DY8qC14q1b4",
        "colab_type": "code",
        "colab": {}
      },
      "cell_type": "code",
      "source": [
        "model.compile(loss='binary_crossentropy',\n",
        "              optimizer='adam',\n",
        "              metrics=['accuracy'])"
      ],
      "execution_count": 0,
      "outputs": []
    },
    {
      "metadata": {
        "id": "18-XV499q6Gq",
        "colab_type": "code",
        "outputId": "9a144d1a-cafa-44ef-f12d-49e8aa4e7759",
        "colab": {
          "base_uri": "https://localhost:8080/",
          "height": 3521
        }
      },
      "cell_type": "code",
      "source": [
        "history = model.fit(X_train,Y_train,batch_size=128,epochs=100,\n",
        "          validation_split=0.2)"
      ],
      "execution_count": 0,
      "outputs": [
        {
          "output_type": "stream",
          "text": [
            "Train on 2 samples, validate on 1 samples\n",
            "Epoch 1/100\n",
            "2/2 [==============================] - 1s 373ms/sample - loss: 0.6923 - acc: 0.5000 - val_loss: 0.7245 - val_acc: 0.0000e+00\n",
            "Epoch 2/100\n",
            "2/2 [==============================] - 0s 11ms/sample - loss: 0.6834 - acc: 0.5000 - val_loss: 0.7411 - val_acc: 0.0000e+00\n",
            "Epoch 3/100\n",
            "2/2 [==============================] - 0s 11ms/sample - loss: 0.6745 - acc: 0.5000 - val_loss: 0.7585 - val_acc: 0.0000e+00\n",
            "Epoch 4/100\n",
            "2/2 [==============================] - 0s 11ms/sample - loss: 0.6684 - acc: 0.5000 - val_loss: 0.7743 - val_acc: 0.0000e+00\n",
            "Epoch 5/100\n",
            "2/2 [==============================] - 0s 11ms/sample - loss: 0.6634 - acc: 0.5000 - val_loss: 0.7882 - val_acc: 0.0000e+00\n",
            "Epoch 6/100\n",
            "2/2 [==============================] - 0s 12ms/sample - loss: 0.6586 - acc: 0.5000 - val_loss: 0.8007 - val_acc: 0.0000e+00\n",
            "Epoch 7/100\n",
            "2/2 [==============================] - 0s 13ms/sample - loss: 0.6541 - acc: 0.5000 - val_loss: 0.8123 - val_acc: 0.0000e+00\n",
            "Epoch 8/100\n",
            "2/2 [==============================] - 0s 13ms/sample - loss: 0.6501 - acc: 0.5000 - val_loss: 0.8227 - val_acc: 0.0000e+00\n",
            "Epoch 9/100\n",
            "2/2 [==============================] - 0s 11ms/sample - loss: 0.6464 - acc: 0.5000 - val_loss: 0.8309 - val_acc: 0.0000e+00\n",
            "Epoch 10/100\n",
            "2/2 [==============================] - 0s 12ms/sample - loss: 0.6433 - acc: 0.5000 - val_loss: 0.8375 - val_acc: 0.0000e+00\n",
            "Epoch 11/100\n",
            "2/2 [==============================] - 0s 11ms/sample - loss: 0.6398 - acc: 0.5000 - val_loss: 0.8428 - val_acc: 0.0000e+00\n",
            "Epoch 12/100\n",
            "2/2 [==============================] - 0s 15ms/sample - loss: 0.6365 - acc: 0.5000 - val_loss: 0.8468 - val_acc: 0.0000e+00\n",
            "Epoch 13/100\n",
            "2/2 [==============================] - 0s 15ms/sample - loss: 0.6331 - acc: 0.5000 - val_loss: 0.8499 - val_acc: 0.0000e+00\n",
            "Epoch 14/100\n",
            "2/2 [==============================] - 0s 15ms/sample - loss: 0.6296 - acc: 0.5000 - val_loss: 0.8518 - val_acc: 0.0000e+00\n",
            "Epoch 15/100\n",
            "2/2 [==============================] - 0s 15ms/sample - loss: 0.6260 - acc: 0.5000 - val_loss: 0.8528 - val_acc: 0.0000e+00\n",
            "Epoch 16/100\n",
            "2/2 [==============================] - 0s 14ms/sample - loss: 0.6223 - acc: 0.5000 - val_loss: 0.8527 - val_acc: 0.0000e+00\n",
            "Epoch 17/100\n",
            "2/2 [==============================] - 0s 14ms/sample - loss: 0.6185 - acc: 0.5000 - val_loss: 0.8511 - val_acc: 0.0000e+00\n",
            "Epoch 18/100\n",
            "2/2 [==============================] - 0s 15ms/sample - loss: 0.6142 - acc: 0.5000 - val_loss: 0.8481 - val_acc: 0.0000e+00\n",
            "Epoch 19/100\n",
            "2/2 [==============================] - 0s 14ms/sample - loss: 0.6099 - acc: 0.5000 - val_loss: 0.8443 - val_acc: 0.0000e+00\n",
            "Epoch 20/100\n",
            "2/2 [==============================] - 0s 14ms/sample - loss: 0.6054 - acc: 0.5000 - val_loss: 0.8397 - val_acc: 0.0000e+00\n",
            "Epoch 21/100\n",
            "2/2 [==============================] - 0s 15ms/sample - loss: 0.6006 - acc: 0.5000 - val_loss: 0.8344 - val_acc: 0.0000e+00\n",
            "Epoch 22/100\n",
            "2/2 [==============================] - 0s 15ms/sample - loss: 0.5957 - acc: 0.5000 - val_loss: 0.8281 - val_acc: 0.0000e+00\n",
            "Epoch 23/100\n",
            "2/2 [==============================] - 0s 14ms/sample - loss: 0.5903 - acc: 0.5000 - val_loss: 0.8214 - val_acc: 0.0000e+00\n",
            "Epoch 24/100\n",
            "2/2 [==============================] - 0s 18ms/sample - loss: 0.5844 - acc: 0.5000 - val_loss: 0.8143 - val_acc: 0.0000e+00\n",
            "Epoch 25/100\n",
            "2/2 [==============================] - 0s 16ms/sample - loss: 0.5782 - acc: 0.5000 - val_loss: 0.8071 - val_acc: 0.0000e+00\n",
            "Epoch 26/100\n",
            "2/2 [==============================] - 0s 13ms/sample - loss: 0.5715 - acc: 0.5000 - val_loss: 0.7997 - val_acc: 0.0000e+00\n",
            "Epoch 27/100\n",
            "2/2 [==============================] - 0s 14ms/sample - loss: 0.5643 - acc: 0.5000 - val_loss: 0.7922 - val_acc: 0.0000e+00\n",
            "Epoch 28/100\n",
            "2/2 [==============================] - 0s 15ms/sample - loss: 0.5566 - acc: 0.5000 - val_loss: 0.7844 - val_acc: 0.0000e+00\n",
            "Epoch 29/100\n",
            "2/2 [==============================] - 0s 14ms/sample - loss: 0.5483 - acc: 0.5000 - val_loss: 0.7761 - val_acc: 0.0000e+00\n",
            "Epoch 30/100\n",
            "2/2 [==============================] - 0s 15ms/sample - loss: 0.5397 - acc: 0.5000 - val_loss: 0.7645 - val_acc: 0.0000e+00\n",
            "Epoch 31/100\n",
            "2/2 [==============================] - 0s 14ms/sample - loss: 0.5300 - acc: 0.5000 - val_loss: 0.7512 - val_acc: 0.0000e+00\n",
            "Epoch 32/100\n",
            "2/2 [==============================] - 0s 14ms/sample - loss: 0.5203 - acc: 0.5000 - val_loss: 0.7357 - val_acc: 0.0000e+00\n",
            "Epoch 33/100\n",
            "2/2 [==============================] - 0s 14ms/sample - loss: 0.5094 - acc: 0.5000 - val_loss: 0.7174 - val_acc: 0.0000e+00\n",
            "Epoch 34/100\n",
            "2/2 [==============================] - 0s 15ms/sample - loss: 0.4976 - acc: 0.5000 - val_loss: 0.6984 - val_acc: 0.0000e+00\n",
            "Epoch 35/100\n",
            "2/2 [==============================] - 0s 15ms/sample - loss: 0.4848 - acc: 0.5000 - val_loss: 0.6800 - val_acc: 1.0000\n",
            "Epoch 36/100\n",
            "2/2 [==============================] - 0s 14ms/sample - loss: 0.4710 - acc: 1.0000 - val_loss: 0.6621 - val_acc: 1.0000\n",
            "Epoch 37/100\n",
            "2/2 [==============================] - 0s 16ms/sample - loss: 0.4559 - acc: 1.0000 - val_loss: 0.6439 - val_acc: 1.0000\n",
            "Epoch 38/100\n",
            "2/2 [==============================] - 0s 14ms/sample - loss: 0.4395 - acc: 1.0000 - val_loss: 0.6243 - val_acc: 1.0000\n",
            "Epoch 39/100\n",
            "2/2 [==============================] - 0s 14ms/sample - loss: 0.4218 - acc: 1.0000 - val_loss: 0.6007 - val_acc: 1.0000\n",
            "Epoch 40/100\n",
            "2/2 [==============================] - 0s 14ms/sample - loss: 0.4036 - acc: 1.0000 - val_loss: 0.5818 - val_acc: 1.0000\n",
            "Epoch 41/100\n",
            "2/2 [==============================] - 0s 12ms/sample - loss: 0.3845 - acc: 1.0000 - val_loss: 0.5623 - val_acc: 1.0000\n",
            "Epoch 42/100\n",
            "2/2 [==============================] - 0s 13ms/sample - loss: 0.3642 - acc: 1.0000 - val_loss: 0.5405 - val_acc: 1.0000\n",
            "Epoch 43/100\n",
            "2/2 [==============================] - 0s 14ms/sample - loss: 0.3429 - acc: 1.0000 - val_loss: 0.5158 - val_acc: 1.0000\n",
            "Epoch 44/100\n",
            "2/2 [==============================] - 0s 14ms/sample - loss: 0.3212 - acc: 1.0000 - val_loss: 0.4879 - val_acc: 1.0000\n",
            "Epoch 45/100\n",
            "2/2 [==============================] - 0s 13ms/sample - loss: 0.2995 - acc: 1.0000 - val_loss: 0.4584 - val_acc: 1.0000\n",
            "Epoch 46/100\n",
            "2/2 [==============================] - 0s 12ms/sample - loss: 0.2780 - acc: 1.0000 - val_loss: 0.4287 - val_acc: 1.0000\n",
            "Epoch 47/100\n",
            "2/2 [==============================] - 0s 17ms/sample - loss: 0.2561 - acc: 1.0000 - val_loss: 0.3984 - val_acc: 1.0000\n",
            "Epoch 48/100\n",
            "2/2 [==============================] - 0s 13ms/sample - loss: 0.2341 - acc: 1.0000 - val_loss: 0.3632 - val_acc: 1.0000\n",
            "Epoch 49/100\n",
            "2/2 [==============================] - 0s 14ms/sample - loss: 0.2122 - acc: 1.0000 - val_loss: 0.3322 - val_acc: 1.0000\n",
            "Epoch 50/100\n",
            "2/2 [==============================] - 0s 14ms/sample - loss: 0.1927 - acc: 1.0000 - val_loss: 0.3030 - val_acc: 1.0000\n",
            "Epoch 51/100\n",
            "2/2 [==============================] - 0s 12ms/sample - loss: 0.1735 - acc: 1.0000 - val_loss: 0.2762 - val_acc: 1.0000\n",
            "Epoch 52/100\n",
            "2/2 [==============================] - 0s 14ms/sample - loss: 0.1554 - acc: 1.0000 - val_loss: 0.2480 - val_acc: 1.0000\n",
            "Epoch 53/100\n",
            "2/2 [==============================] - 0s 13ms/sample - loss: 0.1378 - acc: 1.0000 - val_loss: 0.2196 - val_acc: 1.0000\n",
            "Epoch 54/100\n",
            "2/2 [==============================] - 0s 17ms/sample - loss: 0.1209 - acc: 1.0000 - val_loss: 0.1910 - val_acc: 1.0000\n",
            "Epoch 55/100\n",
            "2/2 [==============================] - 0s 14ms/sample - loss: 0.1048 - acc: 1.0000 - val_loss: 0.1629 - val_acc: 1.0000\n",
            "Epoch 56/100\n",
            "2/2 [==============================] - 0s 14ms/sample - loss: 0.0896 - acc: 1.0000 - val_loss: 0.1364 - val_acc: 1.0000\n",
            "Epoch 57/100\n",
            "2/2 [==============================] - 0s 14ms/sample - loss: 0.0758 - acc: 1.0000 - val_loss: 0.1124 - val_acc: 1.0000\n",
            "Epoch 58/100\n",
            "2/2 [==============================] - 0s 14ms/sample - loss: 0.0635 - acc: 1.0000 - val_loss: 0.0921 - val_acc: 1.0000\n",
            "Epoch 59/100\n",
            "2/2 [==============================] - 0s 14ms/sample - loss: 0.0530 - acc: 1.0000 - val_loss: 0.0750 - val_acc: 1.0000\n",
            "Epoch 60/100\n",
            "2/2 [==============================] - 0s 15ms/sample - loss: 0.0439 - acc: 1.0000 - val_loss: 0.0610 - val_acc: 1.0000\n",
            "Epoch 61/100\n",
            "2/2 [==============================] - 0s 15ms/sample - loss: 0.0359 - acc: 1.0000 - val_loss: 0.0495 - val_acc: 1.0000\n",
            "Epoch 62/100\n",
            "2/2 [==============================] - 0s 14ms/sample - loss: 0.0290 - acc: 1.0000 - val_loss: 0.0399 - val_acc: 1.0000\n",
            "Epoch 63/100\n",
            "2/2 [==============================] - 0s 14ms/sample - loss: 0.0232 - acc: 1.0000 - val_loss: 0.0319 - val_acc: 1.0000\n",
            "Epoch 64/100\n",
            "2/2 [==============================] - 0s 14ms/sample - loss: 0.0185 - acc: 1.0000 - val_loss: 0.0254 - val_acc: 1.0000\n",
            "Epoch 65/100\n",
            "2/2 [==============================] - 0s 15ms/sample - loss: 0.0146 - acc: 1.0000 - val_loss: 0.0202 - val_acc: 1.0000\n",
            "Epoch 66/100\n",
            "2/2 [==============================] - 0s 14ms/sample - loss: 0.0116 - acc: 1.0000 - val_loss: 0.0158 - val_acc: 1.0000\n",
            "Epoch 67/100\n",
            "2/2 [==============================] - 0s 14ms/sample - loss: 0.0092 - acc: 1.0000 - val_loss: 0.0124 - val_acc: 1.0000\n",
            "Epoch 68/100\n",
            "2/2 [==============================] - 0s 14ms/sample - loss: 0.0072 - acc: 1.0000 - val_loss: 0.0097 - val_acc: 1.0000\n",
            "Epoch 69/100\n",
            "2/2 [==============================] - 0s 15ms/sample - loss: 0.0057 - acc: 1.0000 - val_loss: 0.0076 - val_acc: 1.0000\n",
            "Epoch 70/100\n",
            "2/2 [==============================] - 0s 15ms/sample - loss: 0.0046 - acc: 1.0000 - val_loss: 0.0060 - val_acc: 1.0000\n",
            "Epoch 71/100\n",
            "2/2 [==============================] - 0s 15ms/sample - loss: 0.0037 - acc: 1.0000 - val_loss: 0.0048 - val_acc: 1.0000\n",
            "Epoch 72/100\n",
            "2/2 [==============================] - 0s 14ms/sample - loss: 0.0030 - acc: 1.0000 - val_loss: 0.0038 - val_acc: 1.0000\n",
            "Epoch 73/100\n",
            "2/2 [==============================] - 0s 14ms/sample - loss: 0.0025 - acc: 1.0000 - val_loss: 0.0031 - val_acc: 1.0000\n",
            "Epoch 74/100\n",
            "2/2 [==============================] - 0s 14ms/sample - loss: 0.0021 - acc: 1.0000 - val_loss: 0.0025 - val_acc: 1.0000\n",
            "Epoch 75/100\n",
            "2/2 [==============================] - 0s 14ms/sample - loss: 0.0017 - acc: 1.0000 - val_loss: 0.0021 - val_acc: 1.0000\n",
            "Epoch 76/100\n",
            "2/2 [==============================] - 0s 14ms/sample - loss: 0.0015 - acc: 1.0000 - val_loss: 0.0017 - val_acc: 1.0000\n",
            "Epoch 77/100\n",
            "2/2 [==============================] - 0s 15ms/sample - loss: 0.0013 - acc: 1.0000 - val_loss: 0.0015 - val_acc: 1.0000\n",
            "Epoch 78/100\n",
            "2/2 [==============================] - 0s 14ms/sample - loss: 0.0011 - acc: 1.0000 - val_loss: 0.0013 - val_acc: 1.0000\n",
            "Epoch 79/100\n",
            "2/2 [==============================] - 0s 15ms/sample - loss: 9.5388e-04 - acc: 1.0000 - val_loss: 0.0011 - val_acc: 1.0000\n",
            "Epoch 80/100\n",
            "2/2 [==============================] - 0s 15ms/sample - loss: 8.4159e-04 - acc: 1.0000 - val_loss: 9.4564e-04 - val_acc: 1.0000\n",
            "Epoch 81/100\n",
            "2/2 [==============================] - 0s 16ms/sample - loss: 7.4890e-04 - acc: 1.0000 - val_loss: 8.3338e-04 - val_acc: 1.0000\n",
            "Epoch 82/100\n",
            "2/2 [==============================] - 0s 14ms/sample - loss: 6.7175e-04 - acc: 1.0000 - val_loss: 7.4147e-04 - val_acc: 1.0000\n",
            "Epoch 83/100\n",
            "2/2 [==============================] - 0s 18ms/sample - loss: 6.0718e-04 - acc: 1.0000 - val_loss: 6.6549e-04 - val_acc: 1.0000\n",
            "Epoch 84/100\n",
            "2/2 [==============================] - 0s 13ms/sample - loss: 5.5289e-04 - acc: 1.0000 - val_loss: 6.0211e-04 - val_acc: 1.0000\n",
            "Epoch 85/100\n",
            "2/2 [==============================] - 0s 15ms/sample - loss: 5.0676e-04 - acc: 1.0000 - val_loss: 5.4887e-04 - val_acc: 1.0000\n",
            "Epoch 86/100\n",
            "2/2 [==============================] - 0s 14ms/sample - loss: 4.6723e-04 - acc: 1.0000 - val_loss: 5.0383e-04 - val_acc: 1.0000\n",
            "Epoch 87/100\n",
            "2/2 [==============================] - 0s 13ms/sample - loss: 4.3303e-04 - acc: 1.0000 - val_loss: 4.6554e-04 - val_acc: 1.0000\n",
            "Epoch 88/100\n",
            "2/2 [==============================] - 0s 15ms/sample - loss: 4.0333e-04 - acc: 1.0000 - val_loss: 4.3274e-04 - val_acc: 1.0000\n",
            "Epoch 89/100\n",
            "2/2 [==============================] - 0s 14ms/sample - loss: 3.7745e-04 - acc: 1.0000 - val_loss: 4.0450e-04 - val_acc: 1.0000\n",
            "Epoch 90/100\n",
            "2/2 [==============================] - 0s 17ms/sample - loss: 3.5480e-04 - acc: 1.0000 - val_loss: 3.8004e-04 - val_acc: 1.0000\n",
            "Epoch 91/100\n",
            "2/2 [==============================] - 0s 14ms/sample - loss: 3.3485e-04 - acc: 1.0000 - val_loss: 3.5876e-04 - val_acc: 1.0000\n",
            "Epoch 92/100\n",
            "2/2 [==============================] - 0s 13ms/sample - loss: 3.1717e-04 - acc: 1.0000 - val_loss: 3.4081e-04 - val_acc: 1.0000\n",
            "Epoch 93/100\n",
            "2/2 [==============================] - 0s 13ms/sample - loss: 3.0182e-04 - acc: 1.0000 - val_loss: 3.2498e-04 - val_acc: 1.0000\n",
            "Epoch 94/100\n",
            "2/2 [==============================] - 0s 14ms/sample - loss: 2.8806e-04 - acc: 1.0000 - val_loss: 3.1090e-04 - val_acc: 1.0000\n",
            "Epoch 95/100\n",
            "2/2 [==============================] - 0s 14ms/sample - loss: 2.7578e-04 - acc: 1.0000 - val_loss: 2.9832e-04 - val_acc: 1.0000\n",
            "Epoch 96/100\n",
            "2/2 [==============================] - 0s 14ms/sample - loss: 2.6466e-04 - acc: 1.0000 - val_loss: 2.8703e-04 - val_acc: 1.0000\n",
            "Epoch 97/100\n",
            "2/2 [==============================] - 0s 13ms/sample - loss: 2.5460e-04 - acc: 1.0000 - val_loss: 2.7684e-04 - val_acc: 1.0000\n",
            "Epoch 98/100\n",
            "2/2 [==============================] - 0s 18ms/sample - loss: 2.4545e-04 - acc: 1.0000 - val_loss: 2.6760e-04 - val_acc: 1.0000\n",
            "Epoch 99/100\n",
            "2/2 [==============================] - 0s 13ms/sample - loss: 2.3707e-04 - acc: 1.0000 - val_loss: 2.5918e-04 - val_acc: 1.0000\n",
            "Epoch 100/100\n",
            "2/2 [==============================] - 0s 14ms/sample - loss: 2.2947e-04 - acc: 1.0000 - val_loss: 2.5148e-04 - val_acc: 1.0000\n"
          ],
          "name": "stdout"
        }
      ]
    },
    {
      "metadata": {
        "id": "1Mg56ABUrG7C",
        "colab_type": "code",
        "colab": {}
      },
      "cell_type": "code",
      "source": [
        ""
      ],
      "execution_count": 0,
      "outputs": []
    }
  ]
}