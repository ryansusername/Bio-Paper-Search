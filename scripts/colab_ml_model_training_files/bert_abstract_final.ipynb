{
  "nbformat": 4,
  "nbformat_minor": 0,
  "metadata": {
    "colab": {
      "name": "bert_abstract_final",
      "version": "0.3.2",
      "provenance": [],
      "collapsed_sections": []
    },
    "kernelspec": {
      "name": "python3",
      "display_name": "Python 3"
    },
    "accelerator": "GPU"
  },
  "cells": [
    {
      "metadata": {
        "id": "m2TfwU99uD_R",
        "colab_type": "code",
        "outputId": "b9648601-d90c-4dc7-89c6-a68c4fad8c86",
        "colab": {
          "base_uri": "https://localhost:8080/",
          "height": 33
        }
      },
      "cell_type": "code",
      "source": [
        "#Mount drive files\n",
        "from google.colab import drive\n",
        "drive.mount('/content/drive')"
      ],
      "execution_count": 0,
      "outputs": [
        {
          "output_type": "stream",
          "text": [
            "Drive already mounted at /content/drive; to attempt to forcibly remount, call drive.mount(\"/content/drive\", force_remount=True).\n"
          ],
          "name": "stdout"
        }
      ]
    },
    {
      "metadata": {
        "id": "Jc9aVhCouIuA",
        "colab_type": "code",
        "colab": {}
      },
      "cell_type": "code",
      "source": [
        "!pip install --upgrade tensorflow==1.13.1\n",
        "!pip install --upgrade pandas\n",
        "!pip install pyunpack\n",
        "!pip install patool\n",
        "\n",
        "#!pip install -q tensorflow-gpu==2.0.0-alpha0\n",
        "import matplotlib.pyplot as plt\n",
        "import tensorflow as tf\n",
        "import pandas as pd\n",
        "import numpy as np\n",
        "import os\n",
        "import json\n",
        "from pyunpack import Archive\n",
        "from sklearn.preprocessing import LabelEncoder\n",
        "from sklearn.model_selection import train_test_split"
      ],
      "execution_count": 0,
      "outputs": []
    },
    {
      "metadata": {
        "id": "vpqHAPaauh_F",
        "colab_type": "code",
        "colab": {}
      },
      "cell_type": "code",
      "source": [
        "ab_filepath = 'drive/My Drive/fyp/bert_abstract_all.7z'\n",
        "\n",
        "abstract_path = 'bert_abstract_all.json'\n",
        "max_seq_len = 6\n",
        "embedd_len = 768"
      ],
      "execution_count": 0,
      "outputs": []
    },
    {
      "metadata": {
        "id": "nyWxEIuY1QFo",
        "colab_type": "code",
        "outputId": "b0b6a0dc-2b84-4145-806b-9009983dcd2b",
        "colab": {
          "base_uri": "https://localhost:8080/",
          "height": 117
        }
      },
      "cell_type": "code",
      "source": [
        "import glob, os\n",
        "m_files_dir = 'drive/My Drive/fyp/bert_maintext_csv'\n",
        "os.chdir(m_files_dir)\n",
        "for file in glob.glob(\"*.csv\"):\n",
        "  print(file)"
      ],
      "execution_count": 0,
      "outputs": [
        {
          "output_type": "stream",
          "text": [
            "seg_1.csv\n",
            "seg_2.csv\n",
            "seg_3.csv\n",
            "seg_4.csv\n",
            "seg_5.csv\n",
            "seg_6.csv\n"
          ],
          "name": "stdout"
        }
      ]
    },
    {
      "metadata": {
        "id": "YyT_3x72prmM",
        "colab_type": "code",
        "colab": {}
      },
      "cell_type": "code",
      "source": [
        "\n"
      ],
      "execution_count": 0,
      "outputs": []
    },
    {
      "metadata": {
        "id": "IXivVLe8_xN5",
        "colab_type": "code",
        "outputId": "6560c24d-3c20-419c-a56a-462e533e4a41",
        "colab": {
          "base_uri": "https://localhost:8080/",
          "height": 117
        }
      },
      "cell_type": "code",
      "source": [
        "import glob, os\n",
        "m_files_dir = 'drive/My Drive/fyp/bert_maintext_csv'\n",
        "max_maintext_seq_len = 100\n",
        "arr_type = np.dtype(list)\n",
        "segments = []\n",
        "for file in glob.glob(\"*.csv\"):\n",
        "    seg_df = pd.read_csv(file, names=['label', 'embedding'], dtype={1:arr_type}, header=None, sep='\\t')\n",
        "    segments.append(seg_df)\n",
        "    print(file, 'loaded')\n",
        "\n",
        "df = pd.concat(segments, axis=0, ignore_index=True)\n",
        "    "
      ],
      "execution_count": 0,
      "outputs": [
        {
          "output_type": "stream",
          "text": [
            "seg_1.csv loaded\n",
            "seg_2.csv loaded\n",
            "seg_3.csv loaded\n",
            "seg_4.csv loaded\n",
            "seg_5.csv loaded\n",
            "seg_6.csv loaded\n"
          ],
          "name": "stdout"
        }
      ]
    },
    {
      "metadata": {
        "id": "M2bAiched5Ma",
        "colab_type": "code",
        "outputId": "34bd756f-2bad-40ec-fcc0-88b5e3918c81",
        "colab": {
          "base_uri": "https://localhost:8080/",
          "height": 33
        }
      },
      "cell_type": "code",
      "source": [
        "type(df['embedding'][0])"
      ],
      "execution_count": 0,
      "outputs": [
        {
          "output_type": "execute_result",
          "data": {
            "text/plain": [
              "str"
            ]
          },
          "metadata": {
            "tags": []
          },
          "execution_count": 4
        }
      ]
    },
    {
      "metadata": {
        "id": "8mzHJuDDMztn",
        "colab_type": "code",
        "colab": {}
      },
      "cell_type": "code",
      "source": [
        "def str_to_list(x):\n",
        "  if(isinstance(x, str)):\n",
        "    return ast.literal_eval(x)\n",
        "  else:\n",
        "    return x"
      ],
      "execution_count": 0,
      "outputs": []
    },
    {
      "metadata": {
        "id": "N_Zkf833NW7M",
        "colab_type": "code",
        "outputId": "29ed91c4-61fc-4f39-9413-cfc6619b4aba",
        "colab": {
          "base_uri": "https://localhost:8080/",
          "height": 933
        }
      },
      "cell_type": "code",
      "source": [
        "import ast\n",
        "total = len(df['embedding'])\n",
        "for index, x in enumerate(df['embedding']):\n",
        "  df['embedding'][index] = str_to_list(df['embedding'][index])\n",
        "  df['embedding'][index] = pad_paper(df['embedding'][index], 100, 768)\n",
        "  df['embedding'][index] = np.array(df['embedding'][index])\n",
        "  \n",
        "  if(index % 100 == 0):\n",
        "    print('progress:',index,'/',total,'\\tshape:',df['embedding'][index].shape)"
      ],
      "execution_count": 0,
      "outputs": [
        {
          "output_type": "stream",
          "text": [
            "progress: 0 / 5488 \tshape: (100, 768)\n",
            "progress: 100 / 5488 \tshape: (100, 768)\n",
            "progress: 200 / 5488 \tshape: (100, 768)\n",
            "progress: 300 / 5488 \tshape: (100, 768)\n",
            "progress: 400 / 5488 \tshape: (100, 768)\n",
            "progress: 500 / 5488 \tshape: (100, 768)\n",
            "progress: 600 / 5488 \tshape: (100, 768)\n",
            "progress: 700 / 5488 \tshape: (100, 768)\n",
            "progress: 800 / 5488 \tshape: (100, 768)\n",
            "progress: 900 / 5488 \tshape: (100, 768)\n",
            "progress: 1000 / 5488 \tshape: (100, 768)\n",
            "progress: 1100 / 5488 \tshape: (100, 768)\n",
            "progress: 1200 / 5488 \tshape: (100, 768)\n",
            "progress: 1300 / 5488 \tshape: (100, 768)\n",
            "progress: 1400 / 5488 \tshape: (100, 768)\n",
            "progress: 1500 / 5488 \tshape: (100, 768)\n",
            "progress: 1600 / 5488 \tshape: (100, 768)\n",
            "progress: 1700 / 5488 \tshape: (100, 768)\n",
            "progress: 1800 / 5488 \tshape: (100, 768)\n",
            "progress: 1900 / 5488 \tshape: (100, 768)\n",
            "progress: 2000 / 5488 \tshape: (100, 768)\n",
            "progress: 2100 / 5488 \tshape: (100, 768)\n",
            "progress: 2200 / 5488 \tshape: (100, 768)\n",
            "progress: 2300 / 5488 \tshape: (100, 768)\n",
            "progress: 2400 / 5488 \tshape: (100, 768)\n",
            "progress: 2500 / 5488 \tshape: (100, 768)\n",
            "progress: 2600 / 5488 \tshape: (100, 768)\n",
            "progress: 2700 / 5488 \tshape: (100, 768)\n",
            "progress: 2800 / 5488 \tshape: (100, 768)\n",
            "progress: 2900 / 5488 \tshape: (100, 768)\n",
            "progress: 3000 / 5488 \tshape: (100, 768)\n",
            "progress: 3100 / 5488 \tshape: (100, 768)\n",
            "progress: 3200 / 5488 \tshape: (100, 768)\n",
            "progress: 3300 / 5488 \tshape: (100, 768)\n",
            "progress: 3400 / 5488 \tshape: (100, 768)\n",
            "progress: 3500 / 5488 \tshape: (100, 768)\n",
            "progress: 3600 / 5488 \tshape: (100, 768)\n",
            "progress: 3700 / 5488 \tshape: (100, 768)\n",
            "progress: 3800 / 5488 \tshape: (100, 768)\n",
            "progress: 3900 / 5488 \tshape: (100, 768)\n",
            "progress: 4000 / 5488 \tshape: (100, 768)\n",
            "progress: 4100 / 5488 \tshape: (100, 768)\n",
            "progress: 4200 / 5488 \tshape: (100, 768)\n",
            "progress: 4300 / 5488 \tshape: (100, 768)\n",
            "progress: 4400 / 5488 \tshape: (100, 768)\n",
            "progress: 4500 / 5488 \tshape: (100, 768)\n",
            "progress: 4600 / 5488 \tshape: (100, 768)\n",
            "progress: 4700 / 5488 \tshape: (100, 768)\n",
            "progress: 4800 / 5488 \tshape: (100, 768)\n",
            "progress: 4900 / 5488 \tshape: (100, 768)\n",
            "progress: 5000 / 5488 \tshape: (100, 768)\n",
            "progress: 5100 / 5488 \tshape: (100, 768)\n",
            "progress: 5200 / 5488 \tshape: (100, 768)\n",
            "progress: 5300 / 5488 \tshape: (100, 768)\n",
            "progress: 5400 / 5488 \tshape: (100, 768)\n"
          ],
          "name": "stdout"
        }
      ]
    },
    {
      "metadata": {
        "id": "g64x-P6ipFs4",
        "colab_type": "code",
        "outputId": "35fcfc6b-96e7-4404-d692-eba53e18d6b7",
        "colab": {
          "base_uri": "https://localhost:8080/",
          "height": 33
        }
      },
      "cell_type": "code",
      "source": [
        "for index, x in enumerate(df['embedding']):\n",
        "  if(isinstance(x, str)):\n",
        "    print(index)\n",
        "    break"
      ],
      "execution_count": 0,
      "outputs": [
        {
          "output_type": "stream",
          "text": [
            "1271\n"
          ],
          "name": "stdout"
        }
      ]
    },
    {
      "metadata": {
        "id": "zRA4v-GX6lK3",
        "colab_type": "code",
        "outputId": "f9c781a8-9677-4743-bed5-39646f76056f",
        "colab": {
          "base_uri": "https://localhost:8080/",
          "height": 33
        }
      },
      "cell_type": "code",
      "source": [
        "import gc\n",
        "segments = 0\n",
        "gc.collect()"
      ],
      "execution_count": 0,
      "outputs": [
        {
          "output_type": "execute_result",
          "data": {
            "text/plain": [
              "255"
            ]
          },
          "metadata": {
            "tags": []
          },
          "execution_count": 21
        }
      ]
    },
    {
      "metadata": {
        "id": "BHCTS9HHwC9N",
        "colab_type": "code",
        "outputId": "5beeab94-59c6-47c7-b087-3e8c6bed2a6e",
        "colab": {
          "base_uri": "https://localhost:8080/",
          "height": 33
        }
      },
      "cell_type": "code",
      "source": [
        ""
      ],
      "execution_count": 0,
      "outputs": [
        {
          "output_type": "execute_result",
          "data": {
            "text/plain": [
              "pandas.core.series.Series"
            ]
          },
          "metadata": {
            "tags": []
          },
          "execution_count": 14
        }
      ]
    },
    {
      "metadata": {
        "id": "QihzXwMRybg7",
        "colab_type": "code",
        "colab": {}
      },
      "cell_type": "code",
      "source": [
        "\n",
        "def pad_paper(paper, max_seq_length, vec_length):\n",
        "  padding = vec_length * [0]\n",
        "  paper_len = len(paper)\n",
        "  outpaper = paper\n",
        "  \n",
        "  if (paper_len > max_seq_length):\n",
        "    outpaper = paper[:max_seq_length]\n",
        "    \n",
        "  elif(paper_len < max_seq_length):\n",
        "    pad_no = max_seq_length - paper_len\n",
        "    \n",
        "    for pad in range(pad_no):\n",
        "      outpaper.append(padding) \n",
        "    \n",
        "  else:\n",
        "    outpaper = paper\n",
        "  return outpaper"
      ],
      "execution_count": 0,
      "outputs": []
    },
    {
      "metadata": {
        "id": "GtXPCIOymoW5",
        "colab_type": "code",
        "colab": {}
      },
      "cell_type": "code",
      "source": [
        "##Archive(ab_filepath).extractall('')\n",
        "\n",
        "##with open(abstract_path) as json_file: \n",
        "  ##abstracts = json.load(json_file)\n",
        "  ##print(len(abstracts))"
      ],
      "execution_count": 0,
      "outputs": []
    },
    {
      "metadata": {
        "id": "sbAPS9D4NxO5",
        "colab_type": "code",
        "colab": {}
      },
      "cell_type": "code",
      "source": [
        ""
      ],
      "execution_count": 0,
      "outputs": []
    },
    {
      "metadata": {
        "id": "Cj0WGGDrHmA6",
        "colab_type": "code",
        "colab": {}
      },
      "cell_type": "code",
      "source": [
        ""
      ],
      "execution_count": 0,
      "outputs": []
    },
    {
      "metadata": {
        "id": "UtK8h43pdTWh",
        "colab_type": "code",
        "colab": {}
      },
      "cell_type": "code",
      "source": [
        ""
      ],
      "execution_count": 0,
      "outputs": []
    },
    {
      "metadata": {
        "id": "p-R2OT0Cz686",
        "colab_type": "code",
        "colab": {}
      },
      "cell_type": "code",
      "source": [
        ""
      ],
      "execution_count": 0,
      "outputs": []
    },
    {
      "metadata": {
        "id": "OEbLZxjX5d_4",
        "colab_type": "code",
        "colab": {}
      },
      "cell_type": "code",
      "source": [
        "\n"
      ],
      "execution_count": 0,
      "outputs": []
    },
    {
      "metadata": {
        "id": "yXG2SUwbz8nG",
        "colab_type": "code",
        "colab": {}
      },
      "cell_type": "code",
      "source": [
        "# new_abs = []\n",
        "\n",
        "# size = len(abstracts)\n",
        "# for ab in abstracts:\n",
        "#     vectors = ab['abstract_sentence_all']\n",
        "#     new_vectors = pad_paper(vectors, 10, 768)\n",
        "#     new_ab = ab \n",
        "#     new_ab['abstract_sentence_all'] = new_vectors\n",
        "#     new_abs.append(new_ab)\n",
        "\n"
      ],
      "execution_count": 0,
      "outputs": []
    },
    {
      "metadata": {
        "id": "iDmfw3JHJxWN",
        "colab_type": "code",
        "colab": {}
      },
      "cell_type": "code",
      "source": [
        "size = len(df)\n",
        "for index, x in enumerate(df['embedding']):\n",
        "    vec = df['embedding'][index]\n",
        "    df['embedding'][index] = pad_paper(vec, 100, 768)\n",
        "    \n",
        "    if(index % 100 == 0):\n",
        "      print('progress:\\t',index,'/',total)\n",
        "    "
      ],
      "execution_count": 0,
      "outputs": []
    },
    {
      "metadata": {
        "id": "lc0or-Yk0BpV",
        "colab_type": "code",
        "colab": {}
      },
      "cell_type": "code",
      "source": [
        "##abstracts = new_abs"
      ],
      "execution_count": 0,
      "outputs": []
    },
    {
      "metadata": {
        "id": "NtGR2AUF0DR4",
        "colab_type": "code",
        "colab": {}
      },
      "cell_type": "code",
      "source": [
        "#for ab in abstracts[0]['abstract_sentence_all']:\n",
        "##  print(ab)#"
      ],
      "execution_count": 0,
      "outputs": []
    },
    {
      "metadata": {
        "id": "22cWzl9V0HRI",
        "colab_type": "code",
        "colab": {}
      },
      "cell_type": "code",
      "source": [
        "# df = pd.DataFrame(abstracts)\n",
        "# feature = 'abstract_sentence_all'"
      ],
      "execution_count": 0,
      "outputs": []
    },
    {
      "metadata": {
        "id": "0IPW2B8K3kIj",
        "colab_type": "code",
        "outputId": "cfdfe579-fb79-48db-9280-40318ee19415",
        "colab": {
          "base_uri": "https://localhost:8080/",
          "height": 197
        }
      },
      "cell_type": "code",
      "source": [
        "df.head()"
      ],
      "execution_count": 0,
      "outputs": [
        {
          "output_type": "execute_result",
          "data": {
            "text/html": [
              "<div>\n",
              "<style scoped>\n",
              "    .dataframe tbody tr th:only-of-type {\n",
              "        vertical-align: middle;\n",
              "    }\n",
              "\n",
              "    .dataframe tbody tr th {\n",
              "        vertical-align: top;\n",
              "    }\n",
              "\n",
              "    .dataframe thead th {\n",
              "        text-align: right;\n",
              "    }\n",
              "</style>\n",
              "<table border=\"1\" class=\"dataframe\">\n",
              "  <thead>\n",
              "    <tr style=\"text-align: right;\">\n",
              "      <th></th>\n",
              "      <th>label</th>\n",
              "      <th>embedding</th>\n",
              "    </tr>\n",
              "  </thead>\n",
              "  <tbody>\n",
              "    <tr>\n",
              "      <th>0</th>\n",
              "      <td>evolutionary biology</td>\n",
              "      <td>[[0.7809642553329468, 0.24800170958042145, -0....</td>\n",
              "    </tr>\n",
              "    <tr>\n",
              "      <th>1</th>\n",
              "      <td>molecular biology</td>\n",
              "      <td>[[0.2271534502506256, -0.4300555884838104, -0....</td>\n",
              "    </tr>\n",
              "    <tr>\n",
              "      <th>2</th>\n",
              "      <td>molecular biology</td>\n",
              "      <td>[[0.9033320546150208, 0.02782544679939747, -0....</td>\n",
              "    </tr>\n",
              "    <tr>\n",
              "      <th>3</th>\n",
              "      <td>genetics</td>\n",
              "      <td>[[0.8269822597503662, 0.1830005943775177, -0.0...</td>\n",
              "    </tr>\n",
              "    <tr>\n",
              "      <th>4</th>\n",
              "      <td>bioinformatics</td>\n",
              "      <td>[[0.7169336080551147, 0.1673220545053482, -0.2...</td>\n",
              "    </tr>\n",
              "  </tbody>\n",
              "</table>\n",
              "</div>"
            ],
            "text/plain": [
              "                  label                                          embedding\n",
              "0  evolutionary biology  [[0.7809642553329468, 0.24800170958042145, -0....\n",
              "1     molecular biology  [[0.2271534502506256, -0.4300555884838104, -0....\n",
              "2     molecular biology  [[0.9033320546150208, 0.02782544679939747, -0....\n",
              "3              genetics  [[0.8269822597503662, 0.1830005943775177, -0.0...\n",
              "4        bioinformatics  [[0.7169336080551147, 0.1673220545053482, -0.2..."
            ]
          },
          "metadata": {
            "tags": []
          },
          "execution_count": 22
        }
      ]
    },
    {
      "metadata": {
        "id": "s55sKXrpX1cz",
        "colab_type": "code",
        "colab": {}
      },
      "cell_type": "code",
      "source": [
        "for index,emb in enumerate(df.embedding):\n",
        "  if emb.shape != (100,768):\n",
        "    print(index)\n",
        "    break"
      ],
      "execution_count": 0,
      "outputs": []
    },
    {
      "metadata": {
        "id": "p_-8VV7p0Kt0",
        "colab_type": "code",
        "colab": {}
      },
      "cell_type": "code",
      "source": [
        "feature = 'embedding'\n",
        "X = np.array([np.array(a) for a in df[feature].values])\n",
        "Y = df.label\n",
        "classes_size = Y.value_counts().shape[0]\n",
        "le = LabelEncoder()\n",
        "Y = le.fit_transform(Y)\n",
        "Y = Y.reshape(-1,1)"
      ],
      "execution_count": 0,
      "outputs": []
    },
    {
      "metadata": {
        "id": "7fEqexzH4uRX",
        "colab_type": "code",
        "outputId": "2246e565-86df-4d93-d12a-adc3f6173b87",
        "colab": {
          "base_uri": "https://localhost:8080/",
          "height": 50
        }
      },
      "cell_type": "code",
      "source": [
        "print(X.shape)\n",
        "print(Y.shape)"
      ],
      "execution_count": 0,
      "outputs": [
        {
          "output_type": "stream",
          "text": [
            "(5488, 100, 768)\n",
            "(5488, 1)\n"
          ],
          "name": "stdout"
        }
      ]
    },
    {
      "metadata": {
        "id": "Db9-fdNH5md5",
        "colab_type": "code",
        "colab": {}
      },
      "cell_type": "code",
      "source": [
        "X_train,X_test,Y_train,Y_test = train_test_split(X,Y,test_size=0.15)"
      ],
      "execution_count": 0,
      "outputs": []
    },
    {
      "metadata": {
        "id": "8n6zBe1b9qox",
        "colab_type": "code",
        "outputId": "ee897285-bed9-407d-f53f-86d0c1ed9724",
        "colab": {
          "base_uri": "https://localhost:8080/",
          "height": 33
        }
      },
      "cell_type": "code",
      "source": [
        "X_train.shape"
      ],
      "execution_count": 0,
      "outputs": [
        {
          "output_type": "execute_result",
          "data": {
            "text/plain": [
              "(4664, 100, 768)"
            ]
          },
          "metadata": {
            "tags": []
          },
          "execution_count": 31
        }
      ]
    },
    {
      "metadata": {
        "id": "Y2jxc8ajVf1S",
        "colab_type": "code",
        "colab": {}
      },
      "cell_type": "code",
      "source": [
        "type(X_train[0][0])"
      ],
      "execution_count": 0,
      "outputs": []
    },
    {
      "metadata": {
        "id": "fckilBW2qt-w",
        "colab_type": "code",
        "colab": {}
      },
      "cell_type": "code",
      "source": [
        "classes_size"
      ],
      "execution_count": 0,
      "outputs": []
    },
    {
      "metadata": {
        "id": "OlqVpqbV69FJ",
        "colab_type": "code",
        "colab": {}
      },
      "cell_type": "code",
      "source": [
        "max_seq_len = 100\n",
        "embedd_len = 768\n",
        "X_sequence = X_train"
      ],
      "execution_count": 0,
      "outputs": []
    },
    {
      "metadata": {
        "id": "Fn8WrvXZoB7a",
        "colab_type": "code",
        "outputId": "02a3a862-269a-4b79-eadb-69e19ba7fb07",
        "colab": {
          "base_uri": "https://localhost:8080/",
          "height": 33
        }
      },
      "cell_type": "code",
      "source": [
        "from keras.utils import to_categorical\n",
        "Y_train = to_categorical(Y_train)\n",
        "Y_test = to_categorical(Y_test)"
      ],
      "execution_count": 0,
      "outputs": [
        {
          "output_type": "stream",
          "text": [
            "Using TensorFlow backend.\n"
          ],
          "name": "stderr"
        }
      ]
    },
    {
      "metadata": {
        "id": "PRvJYI1k6-HB",
        "colab_type": "code",
        "outputId": "0c318e28-da5a-46b9-833b-376b45643af1",
        "colab": {
          "base_uri": "https://localhost:8080/",
          "height": 137
        }
      },
      "cell_type": "code",
      "source": [
        "\n",
        "inputs = tf.keras.layers.Input(name='inputs',shape=[max_seq_len,embedd_len])\n",
        "layer = tf.keras.layers.LSTM(64)(inputs)\n",
        "layer = tf.keras.layers.Dense(256,name='FC1')(layer)\n",
        "layer = tf.keras.layers.Activation('relu')(layer)\n",
        "layer = tf.keras.layers.Dropout(0.5)(layer)\n",
        "#layer = tf.keras.layers.Dense(64, activation='relu')(layer)\n",
        "layer = tf.keras.layers.Dense(classes_size,name='out_layer')(layer)\n",
        "layer = tf.keras.layers.Activation('softmax')(layer)\n",
        "model = tf.keras.models.Model(inputs=inputs,outputs=layer)"
      ],
      "execution_count": 0,
      "outputs": [
        {
          "output_type": "stream",
          "text": [
            "WARNING:tensorflow:From /usr/local/lib/python3.6/dist-packages/tensorflow/python/ops/resource_variable_ops.py:435: colocate_with (from tensorflow.python.framework.ops) is deprecated and will be removed in a future version.\n",
            "Instructions for updating:\n",
            "Colocations handled automatically by placer.\n",
            "WARNING:tensorflow:From /usr/local/lib/python3.6/dist-packages/tensorflow/python/keras/layers/core.py:143: calling dropout (from tensorflow.python.ops.nn_ops) with keep_prob is deprecated and will be removed in a future version.\n",
            "Instructions for updating:\n",
            "Please use `rate` instead of `keep_prob`. Rate should be set to `rate = 1 - keep_prob`.\n"
          ],
          "name": "stdout"
        }
      ]
    },
    {
      "metadata": {
        "id": "PWSfhHjA7eBI",
        "colab_type": "code",
        "outputId": "cbfe4c10-75ac-4491-88f2-197bffc2cb52",
        "colab": {
          "base_uri": "https://localhost:8080/",
          "height": 367
        }
      },
      "cell_type": "code",
      "source": [
        "model.summary()"
      ],
      "execution_count": 0,
      "outputs": [
        {
          "output_type": "stream",
          "text": [
            "_________________________________________________________________\n",
            "Layer (type)                 Output Shape              Param #   \n",
            "=================================================================\n",
            "inputs (InputLayer)          (None, 100, 768)          0         \n",
            "_________________________________________________________________\n",
            "lstm (LSTM)                  (None, 64)                213248    \n",
            "_________________________________________________________________\n",
            "FC1 (Dense)                  (None, 256)               16640     \n",
            "_________________________________________________________________\n",
            "activation (Activation)      (None, 256)               0         \n",
            "_________________________________________________________________\n",
            "dropout (Dropout)            (None, 256)               0         \n",
            "_________________________________________________________________\n",
            "out_layer (Dense)            (None, 27)                6939      \n",
            "_________________________________________________________________\n",
            "activation_1 (Activation)    (None, 27)                0         \n",
            "=================================================================\n",
            "Total params: 236,827\n",
            "Trainable params: 236,827\n",
            "Non-trainable params: 0\n",
            "_________________________________________________________________\n"
          ],
          "name": "stdout"
        }
      ]
    },
    {
      "metadata": {
        "id": "ZGond6X07gZy",
        "colab_type": "code",
        "colab": {}
      },
      "cell_type": "code",
      "source": [
        ""
      ],
      "execution_count": 0,
      "outputs": []
    },
    {
      "metadata": {
        "id": "b4b37RO4-gIq",
        "colab_type": "code",
        "colab": {}
      },
      "cell_type": "code",
      "source": [
        "model.compile(loss='categorical_crossentropy',\n",
        "              optimizer='adam',\n",
        "              metrics=['accuracy'])"
      ],
      "execution_count": 0,
      "outputs": []
    },
    {
      "metadata": {
        "id": "A10OagnUx5R6",
        "colab_type": "code",
        "colab": {}
      },
      "cell_type": "code",
      "source": [
        "checkpoint_path = \"training_1/cp.ckpt\"\n",
        "checkpoint_dir = os.path.dirname(checkpoint_path)\n",
        "# Create checkpoint callback\n",
        "cp_callback = tf.keras.callbacks.ModelCheckpoint(checkpoint_path, \n",
        "                                                 save_weights_only=True,\n",
        "                                                 verbose=1)"
      ],
      "execution_count": 0,
      "outputs": []
    },
    {
      "metadata": {
        "id": "r87HugUS7iVE",
        "colab_type": "code",
        "outputId": "a6b79723-a9ad-496a-dab3-3863495e1e57",
        "colab": {
          "base_uri": "https://localhost:8080/",
          "height": 287
        }
      },
      "cell_type": "code",
      "source": [
        "history = model.fit(X_train,Y_train,batch_size=64,epochs=2,\n",
        "          validation_split=0.2, callbacks = [cp_callback])"
      ],
      "execution_count": 0,
      "outputs": [
        {
          "output_type": "stream",
          "text": [
            "Train on 3731 samples, validate on 933 samples\n",
            "Epoch 1/2\n",
            "3712/3731 [============================>.] - ETA: 0s - loss: 1.6484 - acc: 0.5022\n",
            "Epoch 00001: saving model to training_1/cp.ckpt\n",
            "WARNING:tensorflow:This model was compiled with a Keras optimizer (<tensorflow.python.keras.optimizers.Adam object at 0x7f9ca70a3470>) but is being saved in TensorFlow format with `save_weights`. The model's weights will be saved, but unlike with TensorFlow optimizers in the TensorFlow format the optimizer's state will not be saved.\n",
            "\n",
            "Consider using a TensorFlow optimizer from `tf.train`.\n",
            "3731/3731 [==============================] - 13s 3ms/sample - loss: 1.6482 - acc: 0.5031 - val_loss: 1.7373 - val_acc: 0.4909\n",
            "Epoch 2/2\n",
            "3712/3731 [============================>.] - ETA: 0s - loss: 1.5970 - acc: 0.5097\n",
            "Epoch 00002: saving model to training_1/cp.ckpt\n",
            "WARNING:tensorflow:This model was compiled with a Keras optimizer (<tensorflow.python.keras.optimizers.Adam object at 0x7f9ca70a3470>) but is being saved in TensorFlow format with `save_weights`. The model's weights will be saved, but unlike with TensorFlow optimizers in the TensorFlow format the optimizer's state will not be saved.\n",
            "\n",
            "Consider using a TensorFlow optimizer from `tf.train`.\n",
            "3731/3731 [==============================] - 12s 3ms/sample - loss: 1.5955 - acc: 0.5098 - val_loss: 1.6545 - val_acc: 0.5166\n"
          ],
          "name": "stdout"
        }
      ]
    },
    {
      "metadata": {
        "id": "Go22OAic9CcT",
        "colab_type": "code",
        "colab": {}
      },
      "cell_type": "code",
      "source": [
        "model.save('bert_maintext_all.h5')"
      ],
      "execution_count": 0,
      "outputs": []
    },
    {
      "metadata": {
        "id": "DmyPAv5C0tWg",
        "colab_type": "code",
        "outputId": "c15734a6-5657-40fc-b8b6-89acce39ebde",
        "colab": {
          "base_uri": "https://localhost:8080/",
          "height": 33
        }
      },
      "cell_type": "code",
      "source": [
        "accr = model.evaluate(X_test,Y_test)"
      ],
      "execution_count": 0,
      "outputs": [
        {
          "output_type": "stream",
          "text": [
            "824/824 [==============================] - 2s 2ms/sample - loss: 1.6777 - acc: 0.5085\n"
          ],
          "name": "stdout"
        }
      ]
    },
    {
      "metadata": {
        "id": "igwWdeOt05P3",
        "colab_type": "code",
        "colab": {}
      },
      "cell_type": "code",
      "source": [
        "test = model.predict(X_test[:1])"
      ],
      "execution_count": 0,
      "outputs": []
    },
    {
      "metadata": {
        "id": "YVrecppx1cDo",
        "colab_type": "code",
        "colab": {}
      },
      "cell_type": "code",
      "source": [
        "X_test[:1].shape"
      ],
      "execution_count": 0,
      "outputs": []
    },
    {
      "metadata": {
        "id": "8KcYZ5uU1MUg",
        "colab_type": "code",
        "colab": {}
      },
      "cell_type": "code",
      "source": [
        "X_test[:1].shape"
      ],
      "execution_count": 0,
      "outputs": []
    }
  ]
}